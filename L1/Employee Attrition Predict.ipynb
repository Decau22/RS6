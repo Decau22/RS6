{
 "cells": [
  {
   "cell_type": "code",
   "execution_count": 1,
   "metadata": {},
   "outputs": [],
   "source": [
    "import numpy as np\n",
    "import pandas as pd\n",
    "from sklearn.model_selection import train_test_split\n",
    "from sklearn import preprocessing\n",
    "from sklearn.tree import DecisionTreeClassifier\n",
    "from sklearn.metrics import accuracy_score"
   ]
  },
  {
   "cell_type": "code",
   "execution_count": 2,
   "metadata": {},
   "outputs": [],
   "source": [
    "raw = pd.read_csv('train.csv')"
   ]
  },
  {
   "cell_type": "code",
   "execution_count": 3,
   "metadata": {},
   "outputs": [
    {
     "name": "stdout",
     "output_type": "stream",
     "text": [
      "<class 'pandas.core.frame.DataFrame'>\n",
      "RangeIndex: 1176 entries, 0 to 1175\n",
      "Data columns (total 36 columns):\n",
      "user_id                     1176 non-null int64\n",
      "Age                         1176 non-null int64\n",
      "Attrition                   1176 non-null object\n",
      "BusinessTravel              1176 non-null object\n",
      "DailyRate                   1176 non-null int64\n",
      "Department                  1176 non-null object\n",
      "DistanceFromHome            1176 non-null int64\n",
      "Education                   1176 non-null int64\n",
      "EducationField              1176 non-null object\n",
      "EmployeeCount               1176 non-null int64\n",
      "EmployeeNumber              1176 non-null int64\n",
      "EnvironmentSatisfaction     1176 non-null int64\n",
      "Gender                      1176 non-null object\n",
      "HourlyRate                  1176 non-null int64\n",
      "JobInvolvement              1176 non-null int64\n",
      "JobLevel                    1176 non-null int64\n",
      "JobRole                     1176 non-null object\n",
      "JobSatisfaction             1176 non-null int64\n",
      "MaritalStatus               1176 non-null object\n",
      "MonthlyIncome               1176 non-null int64\n",
      "MonthlyRate                 1176 non-null int64\n",
      "NumCompaniesWorked          1176 non-null int64\n",
      "Over18                      1176 non-null object\n",
      "OverTime                    1176 non-null object\n",
      "PercentSalaryHike           1176 non-null int64\n",
      "PerformanceRating           1176 non-null int64\n",
      "RelationshipSatisfaction    1176 non-null int64\n",
      "StandardHours               1176 non-null int64\n",
      "StockOptionLevel            1176 non-null int64\n",
      "TotalWorkingYears           1176 non-null int64\n",
      "TrainingTimesLastYear       1176 non-null int64\n",
      "WorkLifeBalance             1176 non-null int64\n",
      "YearsAtCompany              1176 non-null int64\n",
      "YearsInCurrentRole          1176 non-null int64\n",
      "YearsSinceLastPromotion     1176 non-null int64\n",
      "YearsWithCurrManager        1176 non-null int64\n",
      "dtypes: int64(27), object(9)\n",
      "memory usage: 330.9+ KB\n"
     ]
    }
   ],
   "source": [
    "raw.info()"
   ]
  },
  {
   "cell_type": "code",
   "execution_count": 4,
   "metadata": {},
   "outputs": [],
   "source": [
    "# delete IDs and attributes with consistant values\n",
    "raw.drop(columns=['user_id','EmployeeNumber','EmployeeCount','Over18','StandardHours'],inplace=True)"
   ]
  },
  {
   "cell_type": "code",
   "execution_count": 5,
   "metadata": {},
   "outputs": [],
   "source": [
    "# transfer data\n",
    "def attrition_new(status):\n",
    "    if status=='No':\n",
    "        return 0\n",
    "    else:\n",
    "        return 1\n",
    "    \n",
    "raw['Attrition']=raw['Attrition'].astype(str).apply(attrition_new)"
   ]
  },
  {
   "cell_type": "code",
   "execution_count": 6,
   "metadata": {},
   "outputs": [],
   "source": [
    "def BusinessTravel_new(status):\n",
    "    if status=='Non-Travel':\n",
    "        return 0\n",
    "    elif status=='Travel_Rarely':\n",
    "        return 1\n",
    "    else:\n",
    "        return 2\n",
    "    \n",
    "raw['BusinessTravel']=raw['BusinessTravel'].astype(str).apply(BusinessTravel_new)"
   ]
  },
  {
   "cell_type": "code",
   "execution_count": 7,
   "metadata": {},
   "outputs": [],
   "source": [
    "def overtime_new(status):\n",
    "    if status=='No':\n",
    "        return 0\n",
    "    else:\n",
    "        return 1\n",
    "    \n",
    "raw['OverTime']=raw['OverTime'].astype(str).apply(overtime_new)"
   ]
  },
  {
   "cell_type": "code",
   "execution_count": 8,
   "metadata": {},
   "outputs": [],
   "source": [
    "# convert categories to dummies data\n",
    "convert_to_dummies=['Department','EducationField','Gender','JobRole','MaritalStatus']"
   ]
  },
  {
   "cell_type": "code",
   "execution_count": 9,
   "metadata": {},
   "outputs": [],
   "source": [
    "raw = pd.get_dummies(raw, prefix=convert_to_dummies, columns=convert_to_dummies,drop_first=True)"
   ]
  },
  {
   "cell_type": "code",
   "execution_count": 10,
   "metadata": {},
   "outputs": [],
   "source": [
    "x = raw.drop('Attrition', axis=1)\n",
    "y = raw['Attrition']"
   ]
  },
  {
   "cell_type": "code",
   "execution_count": 11,
   "metadata": {},
   "outputs": [],
   "source": [
    "train_x, test_x, train_y, test_y = train_test_split(x, y, test_size=0.20, random_state=33)"
   ]
  },
  {
   "cell_type": "code",
   "execution_count": 12,
   "metadata": {},
   "outputs": [],
   "source": [
    "ss = preprocessing.StandardScaler()\n",
    "train_ss_x = ss.fit_transform(train_x)\n",
    "test_ss_x = ss.transform(test_x)"
   ]
  },
  {
   "cell_type": "code",
   "execution_count": 13,
   "metadata": {},
   "outputs": [
    {
     "name": "stdout",
     "output_type": "stream",
     "text": [
      "LR准确率: 0.7712\n"
     ]
    }
   ],
   "source": [
    "# Method 1:  decision tree\n",
    "clf = DecisionTreeClassifier(criterion='gini')\n",
    "clf.fit(train_ss_x, train_y)\n",
    "predict_y = clf.predict(test_ss_x)\n",
    "print('LR准确率: %0.4lf' % accuracy_score(predict_y, test_y))"
   ]
  },
  {
   "cell_type": "code",
   "execution_count": 14,
   "metadata": {},
   "outputs": [
    {
     "name": "stdout",
     "output_type": "stream",
     "text": [
      "TotalWorkingYears | 0.09715\n",
      "MonthlyIncome | 0.08788\n",
      "HourlyRate | 0.08605\n",
      "TrainingTimesLastYear | 0.05957\n",
      "DistanceFromHome | 0.05693\n",
      "MaritalStatus_Single | 0.04831\n",
      "EnvironmentSatisfaction | 0.04791\n",
      "DailyRate  | 0.04755\n",
      "MonthlyRate | 0.04328\n",
      "BusinessTravel | 0.04301\n",
      "Age        | 0.04128\n",
      "OverTime   | 0.03487\n",
      "YearsAtCompany | 0.03256\n",
      "RelationshipSatisfaction | 0.03192\n",
      "YearsSinceLastPromotion | 0.02980\n",
      "StockOptionLevel | 0.02943\n",
      "Department_Sales | 0.02941\n",
      "NumCompaniesWorked | 0.02813\n",
      "WorkLifeBalance | 0.01584\n",
      "EducationField_Medical | 0.01548\n",
      "JobInvolvement | 0.01372\n",
      "JobSatisfaction | 0.01184\n",
      "Gender_Male | 0.01165\n",
      "MaritalStatus_Married | 0.01009\n",
      "JobRole_Sales Executive | 0.00888\n",
      "JobRole_Laboratory Technician | 0.00885\n",
      "EducationField_Technical Degree | 0.00721\n",
      "Education  | 0.00592\n",
      "YearsInCurrentRole | 0.00592\n",
      "Department_Research & Development | 0.00388\n",
      "JobRole_Sales Representative | 0.00330\n",
      "EducationField_Marketing | 0.00175\n",
      "YearsWithCurrManager | 0.00038\n",
      "PercentSalaryHike | 0.00025\n",
      "JobLevel   | 0.00000\n",
      "PerformanceRating | 0.00000\n",
      "EducationField_Life Sciences | 0.00000\n",
      "EducationField_Other | 0.00000\n",
      "JobRole_Human Resources | 0.00000\n",
      "JobRole_Manager | 0.00000\n",
      "JobRole_Manufacturing Director | 0.00000\n",
      "JobRole_Research Director | 0.00000\n",
      "JobRole_Research Scientist | 0.00000\n"
     ]
    }
   ],
   "source": [
    "# Feature importance\n",
    "features = list(train_x.columns)\n",
    "importance = sorted(zip(features, clf.feature_importances_), key=lambda x:x[1], reverse=True)\n",
    "for feature, val in importance:\n",
    "    print('{0:10s} | {1:.5f}'.format(feature, val))"
   ]
  },
  {
   "cell_type": "code",
   "execution_count": 15,
   "metadata": {},
   "outputs": [
    {
     "name": "stdout",
     "output_type": "stream",
     "text": [
      "RF准确率: 0.8686\n"
     ]
    }
   ],
   "source": [
    "# Method 2: Random Forest\n",
    "from sklearn.ensemble import RandomForestClassifier\n",
    "rfc = RandomForestClassifier(n_estimators=600)\n",
    "rfc.fit(train_ss_x, train_y)\n",
    "predict_y2 = rfc.predict(test_ss_x)\n",
    "\n",
    "print('RF准确率: %0.4lf' % accuracy_score(predict_y2, test_y))"
   ]
  },
  {
   "cell_type": "code",
   "execution_count": 16,
   "metadata": {},
   "outputs": [],
   "source": [
    "kaggle_test = pd.read_csv('test.csv')\n",
    "kaggle_test.drop(columns=['EmployeeNumber','EmployeeCount','Over18','StandardHours'],inplace=True)\n",
    "kaggle_test['BusinessTravel']=kaggle_test['BusinessTravel'].astype(str).apply(BusinessTravel_new)\n",
    "kaggle_test['BusinessTravel']=kaggle_test['BusinessTravel'].astype(str).apply(BusinessTravel_new)\n",
    "kaggle_test['OverTime']=kaggle_test['OverTime'].astype(str).apply(overtime_new)\n",
    "kaggle_test = pd.get_dummies(kaggle_test, prefix=convert_to_dummies, columns=convert_to_dummies,drop_first=True)"
   ]
  },
  {
   "cell_type": "code",
   "execution_count": 17,
   "metadata": {},
   "outputs": [],
   "source": [
    "kaggle_test_x = kaggle_test.drop('user_id', axis=1)\n",
    "kaggle_test_ss_x = ss.transform(kaggle_test_x)"
   ]
  },
  {
   "cell_type": "code",
   "execution_count": 18,
   "metadata": {},
   "outputs": [],
   "source": [
    "predict_kaggle = rfc.predict(kaggle_test_ss_x)"
   ]
  },
  {
   "cell_type": "code",
   "execution_count": 19,
   "metadata": {},
   "outputs": [
    {
     "data": {
      "text/plain": [
       "0      0.100000\n",
       "1      0.110000\n",
       "2      0.148333\n",
       "3      0.161667\n",
       "4      0.711667\n",
       "         ...   \n",
       "289    0.093333\n",
       "290    0.140000\n",
       "291    0.241667\n",
       "292    0.181667\n",
       "293    0.218333\n",
       "Name: 1, Length: 294, dtype: float64"
      ]
     },
     "execution_count": 19,
     "metadata": {},
     "output_type": "execute_result"
    }
   ],
   "source": [
    "pd.DataFrame(rfc.predict_proba(kaggle_test_ss_x))[1]"
   ]
  },
  {
   "cell_type": "code",
   "execution_count": 20,
   "metadata": {},
   "outputs": [],
   "source": [
    "result = pd.concat([kaggle_test['user_id'], pd.DataFrame(rfc.predict_proba(kaggle_test_ss_x))[1]], axis=1)"
   ]
  },
  {
   "cell_type": "code",
   "execution_count": 21,
   "metadata": {},
   "outputs": [],
   "source": [
    "result.rename(columns={ 1: \"Attrition\"},inplace=True)"
   ]
  },
  {
   "cell_type": "code",
   "execution_count": 22,
   "metadata": {},
   "outputs": [
    {
     "data": {
      "text/html": [
       "<div>\n",
       "<style scoped>\n",
       "    .dataframe tbody tr th:only-of-type {\n",
       "        vertical-align: middle;\n",
       "    }\n",
       "\n",
       "    .dataframe tbody tr th {\n",
       "        vertical-align: top;\n",
       "    }\n",
       "\n",
       "    .dataframe thead th {\n",
       "        text-align: right;\n",
       "    }\n",
       "</style>\n",
       "<table border=\"1\" class=\"dataframe\">\n",
       "  <thead>\n",
       "    <tr style=\"text-align: right;\">\n",
       "      <th></th>\n",
       "      <th>user_id</th>\n",
       "      <th>Attrition</th>\n",
       "    </tr>\n",
       "  </thead>\n",
       "  <tbody>\n",
       "    <tr>\n",
       "      <td>0</td>\n",
       "      <td>442</td>\n",
       "      <td>0.100000</td>\n",
       "    </tr>\n",
       "    <tr>\n",
       "      <td>1</td>\n",
       "      <td>1091</td>\n",
       "      <td>0.110000</td>\n",
       "    </tr>\n",
       "    <tr>\n",
       "      <td>2</td>\n",
       "      <td>981</td>\n",
       "      <td>0.148333</td>\n",
       "    </tr>\n",
       "    <tr>\n",
       "      <td>3</td>\n",
       "      <td>785</td>\n",
       "      <td>0.161667</td>\n",
       "    </tr>\n",
       "    <tr>\n",
       "      <td>4</td>\n",
       "      <td>1332</td>\n",
       "      <td>0.711667</td>\n",
       "    </tr>\n",
       "    <tr>\n",
       "      <td>...</td>\n",
       "      <td>...</td>\n",
       "      <td>...</td>\n",
       "    </tr>\n",
       "    <tr>\n",
       "      <td>289</td>\n",
       "      <td>1439</td>\n",
       "      <td>0.093333</td>\n",
       "    </tr>\n",
       "    <tr>\n",
       "      <td>290</td>\n",
       "      <td>481</td>\n",
       "      <td>0.140000</td>\n",
       "    </tr>\n",
       "    <tr>\n",
       "      <td>291</td>\n",
       "      <td>124</td>\n",
       "      <td>0.241667</td>\n",
       "    </tr>\n",
       "    <tr>\n",
       "      <td>292</td>\n",
       "      <td>198</td>\n",
       "      <td>0.181667</td>\n",
       "    </tr>\n",
       "    <tr>\n",
       "      <td>293</td>\n",
       "      <td>1229</td>\n",
       "      <td>0.218333</td>\n",
       "    </tr>\n",
       "  </tbody>\n",
       "</table>\n",
       "<p>294 rows × 2 columns</p>\n",
       "</div>"
      ],
      "text/plain": [
       "     user_id  Attrition\n",
       "0        442   0.100000\n",
       "1       1091   0.110000\n",
       "2        981   0.148333\n",
       "3        785   0.161667\n",
       "4       1332   0.711667\n",
       "..       ...        ...\n",
       "289     1439   0.093333\n",
       "290      481   0.140000\n",
       "291      124   0.241667\n",
       "292      198   0.181667\n",
       "293     1229   0.218333\n",
       "\n",
       "[294 rows x 2 columns]"
      ]
     },
     "execution_count": 22,
     "metadata": {},
     "output_type": "execute_result"
    }
   ],
   "source": [
    "result"
   ]
  },
  {
   "cell_type": "code",
   "execution_count": 23,
   "metadata": {},
   "outputs": [],
   "source": [
    "result.to_csv('Employee_Attrition.csv',index=False)"
   ]
  }
 ],
 "metadata": {
  "kernelspec": {
   "display_name": "Python 3",
   "language": "python",
   "name": "python3"
  },
  "language_info": {
   "codemirror_mode": {
    "name": "ipython",
    "version": 3
   },
   "file_extension": ".py",
   "mimetype": "text/x-python",
   "name": "python",
   "nbconvert_exporter": "python",
   "pygments_lexer": "ipython3",
   "version": "3.7.4"
  }
 },
 "nbformat": 4,
 "nbformat_minor": 2
}
